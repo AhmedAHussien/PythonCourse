{
 "cells": [
  {
   "cell_type": "code",
   "execution_count": 2,
   "metadata": {},
   "outputs": [],
   "source": [
    "stockPrices = [('APPL', 200), ('GOOG', 400), ('MSFT', 100)]"
   ]
  },
  {
   "cell_type": "code",
   "execution_count": 6,
   "metadata": {},
   "outputs": [
    {
     "name": "stdout",
     "output_type": "stream",
     "text": [
      "ticker: APPL = price: 200\n",
      "ticker: GOOG = price: 400\n",
      "ticker: MSFT = price: 100\n"
     ]
    }
   ],
   "source": [
    "for ticker,price in stockPrices:\n",
    "    print(\"ticker: {} = price: {}\".format(ticker, price))"
   ]
  }
 ],
 "metadata": {
  "interpreter": {
   "hash": "5803af8f777a97f277d5d3bd191bd19ef4b77a5ca4144536bf4eae9822b9392a"
  },
  "kernelspec": {
   "display_name": "Python 3.10.0 64-bit",
   "name": "python3"
  },
  "language_info": {
   "codemirror_mode": {
    "name": "ipython",
    "version": 3
   },
   "file_extension": ".py",
   "mimetype": "text/x-python",
   "name": "python",
   "nbconvert_exporter": "python",
   "pygments_lexer": "ipython3",
   "version": "3.10.0"
  },
  "orig_nbformat": 4
 },
 "nbformat": 4,
 "nbformat_minor": 2
}
